{
 "cells": [
  {
   "cell_type": "markdown",
   "id": "0bc71942-32b6-4d70-a984-964332f80b38",
   "metadata": {},
   "source": [
    "## Statistical Terms\r\n",
    "\r\n",
    "### Entropy\r\n",
    "It is the measure of disorder / misclassification in the dataset. The higher the entropy the higher the disorder\r\n",
    "\r\n",
    "Formula --> Entropy(S) = - P(pos) * log(P(pos)) - P(neg) * log(P(neg))\r\n",
    "\r\n",
    "* P(pos) = Proportion of +ve examples in subset S\r\n",
    "* P(neg) = Proportion of -ve examples in subset S\r\n",
    "\r\n",
    "### Gini Index\r\n",
    "It measure the impurity of a set by calculating the propability of misclassification. It is less sensitive to outliers than entropy\r\n",
    "\r\n",
    "Formula --> Gini(S) = 1 - ∑ (P(class)^2)\r\n",
    "\r\n",
    "* (P(class) = Proportion of examples in the set belonging to specific class\r\n",
    "\r\n",
    "### Information Gain\r\n",
    "It measures how much the entropy of the original set is reduced after a split based on particular attribute\r\n",
    "\r\n",
    "Formula --> Information(S, A) = Entropy(S) - ∑(|Sv| / |S|) * Entropy(Sv)\r\n",
    "\r\n",
    "* S = Original set of data\r\n",
    "* A = Attribute being considered for the split\r\n",
    "* Sv = Subset formed after splitting based on attribute 'A'\r\n",
    "* |Sv| = No of examples in subset 'Sv'\r\n",
    "* |S| = Total no of examples in 'S'ples in"
   ]
  },
  {
   "cell_type": "markdown",
   "id": "1b68df56-ec73-4a78-9403-2f20648a1ab0",
   "metadata": {},
   "source": [
    "## Parameters\r\n",
    "\r\n",
    "1. criterion --> Measure the quality of split\r\n",
    "  * Values = MSE / MAE - Regression, Gini / Entropy - Classification\r\n",
    "  * Default = Mse - Regression / Gini - Classification\r\n",
    "\r\n",
    "2. max_depth --> Specifies max fepth of a tree. It controls how deep the tree can grow. Smaller values prevent overfitting by limiting the trees complexity\r\n",
    "  * Values = +ve Int / None\r\n",
    "\r\n",
    "3. min_samples_split --> Sets the min no of samples required for splitting. Set higher to prevent overfitting\r\n",
    "  * Values = +ve Int\r\n",
    "  * Default = 2 - Classification / 5 - Regression\r\n",
    "\r\n",
    "4. min_samples_leaf --> Sets min no of samples required for leaf node\r\n",
    "  * Values = +ve Int\r\n",
    "  * Default = 1 - Classification & Regression\r\n",
    "\r\n",
    "5. max_features --> Max no of features required to consider for splitting\r\n",
    "  * Values = None / auto / sqrt / log2 / +ve Int\r\n",
    "    * None = Consider all features\r\n",
    "    * auto = Automatically selects features\r\n",
    "    * sqrt / log2 = use a subset of features\r\n",
    "  * Deafult = None\r\n",
    "\r\n",
    "6. max_leaf_nodes --> Limits no of leaf nodes in a tree\r\n",
    "  * Values = +ve Int / None\r\n",
    "  * Default = None\r\n",
    "\r\n",
    "7. min_impurity_decrease --> Specifies a threshold for impurity decrease\r\n",
    "  * Values = Float\r\n",
    "  * Default = 0.0leaf nodes in a tree\r\n",
    "  *"
   ]
  },
  {
   "cell_type": "code",
   "execution_count": null,
   "id": "6b3d0de7-da3a-44a1-8fd6-c68a4c7811bb",
   "metadata": {},
   "outputs": [],
   "source": []
  }
 ],
 "metadata": {
  "kernelspec": {
   "display_name": "Python 3 (ipykernel)",
   "language": "python",
   "name": "python3"
  },
  "language_info": {
   "codemirror_mode": {
    "name": "ipython",
    "version": 3
   },
   "file_extension": ".py",
   "mimetype": "text/x-python",
   "name": "python",
   "nbconvert_exporter": "python",
   "pygments_lexer": "ipython3",
   "version": "3.11.5"
  }
 },
 "nbformat": 4,
 "nbformat_minor": 5
}
