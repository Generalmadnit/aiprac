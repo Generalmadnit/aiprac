{
 "cells": [
  {
   "cell_type": "code",
   "execution_count": null,
   "metadata": {},
   "outputs": [],
   "source": [
    "import numpy as np\n",
    "from glob import glob\n",
    "import librosa\n",
    "import speech_recognition as sr\n",
    "from langdetect import detect\n",
    "import shutil\n",
    "import os\n",
    "\n",
    "gender = ''\n",
    "language = ''"
   ]
  },
  {
   "cell_type": "code",
   "execution_count": null,
   "metadata": {},
   "outputs": [],
   "source": [
    "def freq(file_path):\n",
    "    y, sr = librosa.load(file_path)\n",
    "\n",
    "    y, index = librosa.effects.trim(y)\n",
    "\n",
    "    D = librosa.stft(y)\n",
    "\n",
    "    magnitude = librosa.amplitude_to_db(abs(D))\n",
    "\n",
    "    min_freq_bin = magnitude.argmin(axis=0)\n",
    "    max_freq_bin = magnitude.argmax(axis=0)\n",
    "\n",
    "    min_freq_hz = librosa.core.fft_frequencies(sr=sr)[min_freq_bin]\n",
    "    max_freq_hz = librosa.core.fft_frequencies(sr=sr)[max_freq_bin]\n",
    "\n",
    "    minf = np.min(min_freq_hz)\n",
    "    maxf = np.max(max_freq_hz)\n",
    "\n",
    "    if minf >= 85 and max<=155:\n",
    "        gender = 'male'\n",
    "    else:\n",
    "        gender = 'female'\n",
    "    print(\"The detected gender is \"+gender)"
   ]
  },
  {
   "cell_type": "code",
   "execution_count": null,
   "metadata": {},
   "outputs": [],
   "source": [
    "\n",
    "def audio_to_text(audio_file_path):\n",
    "    recognizer = sr.Recognizer()\n",
    "\n",
    "    with sr.AudioFile(audio_file_path) as source:\n",
    "        audio_data = recognizer.record(source)\n",
    "\n",
    "    text = ''\n",
    "    try:\n",
    "        text = recognizer.recognize_google(audio_data)\n",
    "        \n",
    "        if text:\n",
    "            print(\"Transcribed text:\",text)\n",
    "        else:\n",
    "            print(\"Failed to transcribe audio.\")\n",
    "    except: pass\n",
    "    return text"
   ]
  },
  {
   "cell_type": "code",
   "execution_count": null,
   "metadata": {},
   "outputs": [],
   "source": [
    "def lang(text):\n",
    "    language = detect(text)\n",
    "    print(\"language detected is \"+language)\n",
    "    return language"
   ]
  },
  {
   "cell_type": "code",
   "execution_count": null,
   "metadata": {},
   "outputs": [],
   "source": [
    "audio_file_path = \"./audio/2.wav\"\n",
    "\n",
    "freq(audio_file_path)\n",
    "text = audio_to_text(audio_file_path)\n",
    "language = lang(text)\n",
    "\n",
    "source = '/audio/2.wav'\n",
    "destination = ''+gender+'/'+language\n",
    "\n",
    "os.makedirs(destination, exist_ok=True)\n",
    "\n",
    "shutil.copy(audio_file_path, os.path.join(destination, os.path.basename(source)))"
   ]
  },
  {
   "cell_type": "code",
   "execution_count": null,
   "metadata": {},
   "outputs": [],
   "source": []
  }
 ],
 "metadata": {
  "kernelspec": {
   "display_name": "Python 3",
   "language": "python",
   "name": "python3"
  },
  "language_info": {
   "codemirror_mode": {
    "name": "ipython",
    "version": 3
   },
   "file_extension": ".py",
   "mimetype": "text/x-python",
   "name": "python",
   "nbconvert_exporter": "python",
   "pygments_lexer": "ipython3",
   "version": "3.11.5"
  }
 },
 "nbformat": 4,
 "nbformat_minor": 2
}
