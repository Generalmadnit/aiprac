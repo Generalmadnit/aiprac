{
 "cells": [
  {
   "cell_type": "code",
   "execution_count": 4,
   "metadata": {},
   "outputs": [],
   "source": [
    "import numpy as np\n",
    "import pandas as pd\n",
    "import matplotlib.pyplot as plt\n",
    "from glob import glob"
   ]
  },
  {
   "cell_type": "code",
   "execution_count": 20,
   "metadata": {},
   "outputs": [
    {
     "name": "stdout",
     "output_type": "stream",
     "text": [
      "The detected gender is female\n"
     ]
    }
   ],
   "source": [
    "import librosa\n",
    "\n",
    "# Load the audio file\n",
    "y, sr = librosa.load(\"./audio/2.wav\")\n",
    "\n",
    "# Trim the silent sections from the audio\n",
    "y, index = librosa.effects.trim(y)\n",
    "\n",
    "# Compute the short-time Fourier transform (STFT)\n",
    "D = librosa.stft(y)\n",
    "\n",
    "# Calculate the magnitude spectrogram\n",
    "magnitude = librosa.amplitude_to_db(abs(D))\n",
    "\n",
    "# Find the minimum and maximum frequency bins\n",
    "min_freq_bin = magnitude.argmin(axis=0)\n",
    "max_freq_bin = magnitude.argmax(axis=0)\n",
    "\n",
    "# Convert frequency bin indices to Hz\n",
    "min_freq_hz = librosa.core.fft_frequencies(sr=sr)[min_freq_bin]\n",
    "max_freq_hz = librosa.core.fft_frequencies(sr=sr)[max_freq_bin]\n",
    "\n",
    "minf = np.min(min_freq_hz)\n",
    "maxf = np.max(max_freq_hz)\n",
    "\n",
    "gender = ''\n",
    "\n",
    "if minf >= 85 and max<=155:\n",
    "    gender = 'male'\n",
    "else:\n",
    "    gender = 'female'\n",
    "\n",
    "print(\"The detected gender is \"+gender)"
   ]
  },
  {
   "cell_type": "code",
   "execution_count": 3,
   "metadata": {},
   "outputs": [
    {
     "name": "stdout",
     "output_type": "stream",
     "text": [
      "Transcribed text: fortunately from this moment from her room and Diana signalling at a great great you better see what she wants in rain to the east cable\n"
     ]
    }
   ],
   "source": [
    "import speech_recognition as sr\n",
    "\n",
    "def audio_to_text(audio_file_path):\n",
    "    recognizer = sr.Recognizer()\n",
    "\n",
    "    # Load the audio file\n",
    "    with sr.AudioFile(audio_file_path) as source:\n",
    "        audio_data = recognizer.record(source)\n",
    "\n",
    "    try:\n",
    "        # Recognize speech using Google Web Speech API\n",
    "        text = recognizer.recognize_google(audio_data)\n",
    "        return text\n",
    "    except sr.UnknownValueError:\n",
    "        print(\"Speech Recognition could not understand audio\")\n",
    "        return None\n",
    "    except sr.RequestError as e:\n",
    "        print(\"Could not request results from Google Web Speech API; {0}\".format(e))\n",
    "        return None\n",
    "\n",
    "# Example usage\n",
    "audio_file_path = \"./audio/2.wav\"\n",
    "transcribed_text = audio_to_text(audio_file_path)\n",
    "\n",
    "if transcribed_text:\n",
    "    print(\"Transcribed text:\", transcribed_text)\n",
    "else:\n",
    "    print(\"Failed to transcribe audio.\")\n"
   ]
  },
  {
   "cell_type": "code",
   "execution_count": 4,
   "metadata": {},
   "outputs": [
    {
     "name": "stdout",
     "output_type": "stream",
     "text": [
      "Collecting langdetect\n",
      "  Downloading langdetect-1.0.9.tar.gz (981 kB)\n",
      "     ---------------------------------------- 0.0/981.5 kB ? eta -:--:--\n",
      "     ---------------------------------------- 10.2/981.5 kB ? eta -:--:--\n",
      "     - ----------------------------------- 41.0/981.5 kB 495.5 kB/s eta 0:00:02\n",
      "     -- ---------------------------------- 61.4/981.5 kB 544.7 kB/s eta 0:00:02\n",
      "     ----- ------------------------------ 143.4/981.5 kB 853.3 kB/s eta 0:00:01\n",
      "     ---------- --------------------------- 276.5/981.5 kB 1.4 MB/s eta 0:00:01\n",
      "     ------------------ ------------------- 471.0/981.5 kB 1.8 MB/s eta 0:00:01\n",
      "     ---------------------- --------------- 583.7/981.5 kB 1.9 MB/s eta 0:00:01\n",
      "     ---------------------------------- --- 890.9/981.5 kB 2.6 MB/s eta 0:00:01\n",
      "     -------------------------------------- 981.5/981.5 kB 2.6 MB/s eta 0:00:00\n",
      "  Preparing metadata (setup.py): started\n",
      "  Preparing metadata (setup.py): finished with status 'done'\n",
      "Requirement already satisfied: six in c:\\users\\pathu\\appdata\\local\\programs\\python\\python311\\lib\\site-packages (from langdetect) (1.16.0)\n",
      "Building wheels for collected packages: langdetect\n",
      "  Building wheel for langdetect (setup.py): started\n",
      "  Building wheel for langdetect (setup.py): finished with status 'done'\n",
      "  Created wheel for langdetect: filename=langdetect-1.0.9-py3-none-any.whl size=993253 sha256=929d4cc3698bd2ee2939e3704833616f1a25571a913bc20eea71f6577886b2d0\n",
      "  Stored in directory: c:\\users\\pathu\\appdata\\local\\pip\\cache\\wheels\\0a\\f2\\b2\\e5ca405801e05eb7c8ed5b3b4bcf1fcabcd6272c167640072e\n",
      "Successfully built langdetect\n",
      "Installing collected packages: langdetect\n",
      "Successfully installed langdetect-1.0.9\n",
      "Note: you may need to restart the kernel to use updated packages.\n"
     ]
    }
   ],
   "source": [
    "pip install langdetect"
   ]
  },
  {
   "cell_type": "code",
   "execution_count": 5,
   "metadata": {},
   "outputs": [
    {
     "name": "stdout",
     "output_type": "stream",
     "text": [
      "en\n"
     ]
    }
   ],
   "source": [
    "from langdetect import detect\n",
    "print(detect(transcribed_text))"
   ]
  },
  {
   "cell_type": "code",
   "execution_count": null,
   "metadata": {},
   "outputs": [],
   "source": []
  }
 ],
 "metadata": {
  "kernelspec": {
   "display_name": "Python 3",
   "language": "python",
   "name": "python3"
  },
  "language_info": {
   "codemirror_mode": {
    "name": "ipython",
    "version": 3
   },
   "file_extension": ".py",
   "mimetype": "text/x-python",
   "name": "python",
   "nbconvert_exporter": "python",
   "pygments_lexer": "ipython3",
   "version": "3.11.5"
  }
 },
 "nbformat": 4,
 "nbformat_minor": 2
}
